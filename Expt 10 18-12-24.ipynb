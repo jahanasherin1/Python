{
 "cells": [
  {
   "cell_type": "code",
   "execution_count": 2,
   "id": "9f9776bc-9298-44d4-8da3-da45f323fee7",
   "metadata": {},
   "outputs": [
    {
     "name": "stdin",
     "output_type": "stream",
     "text": [
      "Enter a number:  3\n",
      "Enter a number:  6\n"
     ]
    },
    {
     "name": "stdout",
     "output_type": "stream",
     "text": [
      "Result: 0.5\n",
      "Program execution completed.\n"
     ]
    }
   ],
   "source": [
    "#1. handle ZeroDivisionError, ValueError which may arise when two numbers are being divided.\n",
    "\n",
    "try:\n",
    "    n1 = int(input(\"Enter a number: \"))\n",
    "    n2= int(input(\"Enter a number: \"))\n",
    "    result = n1 / n2\n",
    "except ZeroDivisionError:\n",
    "    print(\"Error: Division by zero is not allowed!\")\n",
    "except ValueError:\n",
    "    print(\"Error: Invalid input. Please enter numeric values.\")\n",
    "else:\n",
    "    print(f\"Result: {result}\")\n",
    "finally:\n",
    "    print(\"Program execution completed.\")"
   ]
  },
  {
   "cell_type": "code",
   "execution_count": null,
   "id": "ae0dd897-e23b-493b-abe1-ca8aac590d45",
   "metadata": {},
   "outputs": [],
   "source": []
  }
 ],
 "metadata": {
  "kernelspec": {
   "display_name": "Python 3 (ipykernel)",
   "language": "python",
   "name": "python3"
  },
  "language_info": {
   "codemirror_mode": {
    "name": "ipython",
    "version": 3
   },
   "file_extension": ".py",
   "mimetype": "text/x-python",
   "name": "python",
   "nbconvert_exporter": "python",
   "pygments_lexer": "ipython3",
   "version": "3.11.9"
  }
 },
 "nbformat": 4,
 "nbformat_minor": 5
}
