
{
 "cells": [
  {
   "cell_type": "code",
   "execution_count": 1,
   "id": "4b92a7f3-6260-4461-8f41-a11680ecc8c4",
   "metadata": {},
   "outputs": [
    {
     "name": "stdin",
     "output_type": "stream",
     "text": [
      "Enter temperature in celsius: 39\n"
     ]
    },
    {
     "name": "stdout",
     "output_type": "stream",
     "text": [
      "Degree in fahrenheit= 39.8\n"
     ]
    }
   ],
   "source": [
    "c=float(input(\"Enter temperature in celsius:\"))\n",
    "F=c*(1/5)+32\n",
    "print(\"Degree in fahrenheit=\",F)\n"
   ]
  },
  {
   "cell_type": "code",
   "execution_count": 2,
   "id": "fadb8dff-14de-4323-80e3-807654809b0f",
   "metadata": {},
   "outputs": [
    {
     "name": "stdin",
     "output_type": "stream",
     "text": [
      "Enter distance in km: 100\n"
     ]
    },
    {
     "name": "stdout",
     "output_type": "stream",
     "text": [
      "miles= 62.137\n"
     ]
    }
   ],
   "source": [
    "km=int(input(\"Enter distance in km:\"))\n",
    "miles=km*0.62137\n",
    "print(\"miles=\",miles)"
   ]
  },
  {
   "cell_type": "code",
   "execution_count": 11,
   "id": "31aeb0f2-5c7e-455f-bbd6-a06cace75dfb",
   "metadata": {},
   "outputs": [
    {
     "name": "stdin",
     "output_type": "stream",
     "text": [
      "Enter the price of 1st product: 60\n",
      "Enter the price of 2nd product: 250\n",
      "Enter the price of 3rd product: 80\n"
     ]
    },
    {
     "name": "stdout",
     "output_type": "stream",
     "text": [
      "total_price of the procuct is:$390.0\n",
      "final_price(after 15% discount):$331.5\n",
      "average_price of the product:$130.0\n",
      "product A is expensive than final_price:False\n",
      "product B is expensive than final_price:False\n",
      "product C is expensive than final_price:False\n",
      "final_price is in the range of $50 to &200:False\n"
     ]
    }
   ],
   "source": [
    "A=float(input(\"Enter the price of 1st product:\"))\n",
    "B=float(input(\"Enter the price of 2nd product:\"))\n",
    "C=float(input(\"Enter the price of 3rd product:\"))\n",
    "total_price=A+B+C\n",
    "print(f\"total_price of the procuct is:${total_price}\")\n",
    "discount=total_price*0.15\n",
    "final_price=total_price-discount\n",
    "print(f\"final_price(after 15% discount):${final_price}\")\n",
    "avg=total_price/3\n",
    "print(f\"average_price of the product:${avg}\")\n",
    "print(f\"product A is expensive than final_price:{A>final_price}\")\n",
    "print(f\"product B is expensive than final_price:{B>final_price}\")\n",
    "print(f\"product C is expensive than final_price:{C>final_price}\")\n",
    "print(f\"final_price is in the range of $50 to &200:{50<=final_price<=200}\")"
   ]
  },
  {
   "cell_type": "code",
   "execution_count": null,
   "id": "b6f4bf95-bcf0-43ba-851c-978747f6539c",
   "metadata": {},
   "outputs": [],
   "source": []
  }
 ],
 "metadata": {
  "kernelspec": {
   "display_name": "Python 3 (ipykernel)",
   "language": "python",
   "name": "python3"
  },
  "language_info": {
   "codemirror_mode": {
    "name": "ipython",
    "version": 3
   },
   "file_extension": ".py",
   "mimetype": "text/x-python",
   "name": "python",
   "nbconvert_exporter": "python",
   "pygments_lexer": "ipython3",
   "version": "3.11.9"
  }
 },
 "nbformat": 4,
 "nbformat_minor": 5
}
