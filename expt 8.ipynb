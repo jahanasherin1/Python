{
 "cells": [
  {
   "cell_type": "code",
   "execution_count": 5,
   "id": "8b92cb80-cbcb-4923-8d4a-f561bd580952",
   "metadata": {},
   "outputs": [
    {
     "name": "stdin",
     "output_type": "stream",
     "text": [
      "Enter length of rectangle 1: 4\n",
      "Enter breadth of rectangle 1: 5\n",
      "Enter length of rectangle 2: 6\n",
      "Enter breadth of rectangle 2: 7\n"
     ]
    },
    {
     "name": "stdout",
     "output_type": "stream",
     "text": [
      "\n",
      " Area of rectangle 1: 20\n",
      "\n",
      " Perimeter of rectangle 1: 18\n",
      "\n",
      " Area of rectangle 2: 42\n",
      "\n",
      " Perimeter of rectangle 2: 26\n",
      "\n",
      " Rectangle 1 has smaller area than Rectangle 2\n"
     ]
    }
   ],
   "source": [
    "#1. Create Rectangle class with attributes length and breadth and methods to find area and perimeter. Compare two Rectangle objects by their area. \n",
    "class Rectangle:\n",
    "    def __init__(self,length,breadth):\n",
    "        self.length=length\n",
    "        self.breadth=breadth\n",
    "    def area(self):\n",
    "        return self.length * self.breadth\n",
    "\n",
    "    def perimeter(self):\n",
    "        return 2 * (self.length + self.breadth)\n",
    "\n",
    "l1=int(input(\"Enter length of rectangle 1:\"))\n",
    "b1=int(input(\"Enter breadth of rectangle 1:\"))\n",
    "rect1=Rectangle(l1,b1)\n",
    "\n",
    "l2=int(input(\"Enter length of rectangle 2:\"))\n",
    "b2=int(input(\"Enter breadth of rectangle 2:\"))\n",
    "rect2=Rectangle(l2,b2)\n",
    "\n",
    "print(\"\\n Area of rectangle 1:\",rect1.area())\n",
    "print(\"\\n Perimeter of rectangle 1:\",rect1.perimeter())\n",
    "print(\"\\n Area of rectangle 2:\",rect2.area())\n",
    "print(\"\\n Perimeter of rectangle 2:\",rect2.perimeter())\n",
    "\n",
    "if rect1.area() < rect2.area():\n",
    "    print(\"\\n Rectangle 1 has smaller area than Rectangle 2\")\n",
    "else:\n",
    "    print(\"\\n Rectangle 1 has larger or equal area than Rectangle 2\")\n",
    "\n",
    "    \n",
    "\n",
    "\n",
    "\n",
    "\n",
    "                     \n"
   ]
  },
  {
   "cell_type": "code",
   "execution_count": 12,
   "id": "329c1b07-abb9-4d60-bd67-0785aee41087",
   "metadata": {},
   "outputs": [
    {
     "name": "stdin",
     "output_type": "stream",
     "text": [
      "Enter name:  jahana\n",
      "Enter account number:  32568914\n",
      "Enter account type:  saving\n",
      "Enter initial balance:  1000\n",
      "1.Deposit \n",
      "2.Withdraw \n",
      "3.Account info \n",
      "4.Exit\n",
      " Choose your option:  1\n",
      "Deposit amount:  500\n"
     ]
    },
    {
     "name": "stdout",
     "output_type": "stream",
     "text": [
      "Deposited 500. New balance is 1500.\n"
     ]
    },
    {
     "name": "stdin",
     "output_type": "stream",
     "text": [
      "1.Deposit \n",
      "2.Withdraw \n",
      "3.Account info \n",
      "4.Exit\n",
      " Choose your option:  2\n",
      "Withdraw amount:  200\n"
     ]
    },
    {
     "name": "stdout",
     "output_type": "stream",
     "text": [
      "Initial balance:  1500\n",
      "200  is withdrawed\n",
      "Current balance:  1300\n"
     ]
    },
    {
     "name": "stdin",
     "output_type": "stream",
     "text": [
      "1.Deposit \n",
      "2.Withdraw \n",
      "3.Account info \n",
      "4.Exit\n",
      " Choose your option:  3\n"
     ]
    },
    {
     "name": "stdout",
     "output_type": "stream",
     "text": [
      "Account Number: 32568914\n",
      "Account Holder: jahana\n",
      "Account Type: saving\n",
      "Balance: 1300\n"
     ]
    },
    {
     "name": "stdin",
     "output_type": "stream",
     "text": [
      "1.Deposit \n",
      "2.Withdraw \n",
      "3.Account info \n",
      "4.Exit\n",
      " Choose your option:  4\n"
     ]
    },
    {
     "name": "stdout",
     "output_type": "stream",
     "text": [
      "Exiting...\n"
     ]
    }
   ],
   "source": [
    "#2. Create a Bank account with members account number, name, type of account and balance. Write constructor and methods to deposit at the bank and withdraw an amount from the bank. \n",
    "\n",
    "class BankAccount:\n",
    "    def __init__(self, name, account_number, account_type, balance=0):\n",
    "        self.account_number = account_number\n",
    "        self.name = name\n",
    "        self.account_type = account_type\n",
    "        self.balance = balance\n",
    "    \n",
    "    def deposit(self, amount):\n",
    "        if amount > 0:\n",
    "            self.balance += amount\n",
    "            print(f\"Deposited {amount}. New balance is {self.balance}.\")\n",
    "        else:\n",
    "            print(\"Deposit amount must be greater than zero.\")\n",
    "    \n",
    "    def withdraw(self):\n",
    "        self.amount=int(input(\"Withdraw amount: \"))\n",
    "        print(\"Initial balance: \",self.balance)\n",
    "        if self.amount > self.balance:\n",
    "            print(\"You don't have enough balance to withdraw !!\")\n",
    "            print(\"Current balance: \",self.balance)\n",
    "        else:\n",
    "            print(self.amount,\" is withdrawed\")\n",
    "            self.balance-=self.amount\n",
    "            print(\"Current balance: \",self.balance)\n",
    "    \n",
    "    def acc_info(self):\n",
    "        print(f\"Account Number: {self.account_number}\")\n",
    "        print(f\"Account Holder: {self.name}\")\n",
    "        print(f\"Account Type: {self.account_type}\")\n",
    "        print(f\"Balance: {self.balance}\")\n",
    "\n",
    "name=input(\"Enter name: \")\n",
    "number=int(input(\"Enter account number: \"))\n",
    "type=input(\"Enter account type: \")\n",
    "balance=int(input(\"Enter initial balance: \"))\n",
    "holder=BankAccount(name,number,type,balance)    \n",
    "\n",
    "while(True):\n",
    "    ch=int(input(\"1.Deposit \\n2.Withdraw \\n3.Account info \\n4.Exit\\n Choose your option: \"))\n",
    "    if ch==1:\n",
    "        amount=int(input(\"Deposit amount: \"))\n",
    "        holder.deposit(amount)\n",
    "    elif ch==2:\n",
    "        holder.withdraw()\n",
    "    elif ch==3:\n",
    "        holder.acc_info()\n",
    "    else:\n",
    "        print(\"Exiting...\")\n",
    "        break\n"
   ]
  },
  {
   "cell_type": "code",
   "execution_count": 16,
   "id": "00eea838-f1d0-43bb-941c-08f22d62bbff",
   "metadata": {},
   "outputs": [
    {
     "name": "stdin",
     "output_type": "stream",
     "text": [
      "Enter length of rectangle 1: 6\n",
      "Enter breadth of rectangle 1: 7\n",
      "Enter length of rectangle 2: 4\n",
      "Enter breadth of rectangle 2: 5\n"
     ]
    },
    {
     "name": "stdout",
     "output_type": "stream",
     "text": [
      "Length: 6, Width: 7, Area: 42\n",
      "Length: 4, Width: 5, Area: 20\n",
      "Rectangle 1 is larger or equal in area than Rectangle 2.\n"
     ]
    }
   ],
   "source": [
    "# 3. Create a class Rectangle with private attributes length and width. Overload ‘<’ operator to compare the area of 2 rectangles. \n",
    "class Rectangle:\n",
    "    def __init__(self, length, width):\n",
    "        self.__length = length  \n",
    "        self.__width = width    \n",
    "\n",
    "    def area(self):\n",
    "        return self.__length * self.__width\n",
    "\n",
    "    def __lt__(self, other):\n",
    "        if isinstance(other, Rectangle):\n",
    "            return self.area() < other.area()\n",
    "        return NotImplemented\n",
    "\n",
    "    def display(self):\n",
    "        print(f\"Length: {self.__length}, Width: {self.__width}, Area: {self.area()}\")\n",
    "\n",
    "l1=int(input(\"Enter length of rectangle 1:\"))\n",
    "b1=int(input(\"Enter breadth of rectangle 1:\"))\n",
    "rect1 = Rectangle(l1,b1)\n",
    "\n",
    "l2=int(input(\"Enter length of rectangle 2:\"))\n",
    "b2=int(input(\"Enter breadth of rectangle 2:\"))\n",
    "rect2 = Rectangle(l2,b2)\n",
    "\n",
    "rect1.display()\n",
    "rect2.display()\n",
    "\n",
    "\n",
    "if rect1 < rect2:\n",
    "    print(\"Rectangle 1 has a smaller area than Rectangle 2.\")\n",
    "else:\n",
    "    print(\"Rectangle 1 is larger or equal in area than Rectangle 2.\")\n"
   ]
  },
  {
   "cell_type": "code",
   "execution_count": 4,
   "id": "a84f114b-0a43-4751-ba5a-e2b177314413",
   "metadata": {},
   "outputs": [
    {
     "name": "stdout",
     "output_type": "stream",
     "text": [
      "Time 1 :01:30:45\n",
      "Time 2 :02:15:20\n",
      "Sum :03:46:05\n"
     ]
    }
   ],
   "source": [
    "#4. Create a class Time with private attributes hour, minute and second. Overload ‘+’ operator to find sum of 2 time. \n",
    "\n",
    "class Time:\n",
    "    def __init__(self,hour,minute,second):\n",
    "        self.__hour = hour\n",
    "        self.__minute = minute\n",
    "        self.__second = second\n",
    "\n",
    "    def __add__(self,other):\n",
    "        total_second = (self.__hour * 3600 + self.__minute *  60 + self.__second ) + \\\n",
    "                        (other.__hour * 3600 + other.__minute * 60 + other.__second )\n",
    "\n",
    "\n",
    "        h,s =divmod(total_second,3600)\n",
    "        m,s =divmod(s,60)\n",
    "        return Time(h,m,s)\n",
    "\n",
    "    def __str__(self):\n",
    "        return f\"{self.__hour:02}:{self.__minute:02}:{self.__second:02}\"\n",
    "\n",
    "t1 = Time(1,30,45)\n",
    "t2 = Time(2,15,20)\n",
    "\n",
    "t3 = t1 + t2\n",
    "\n",
    "print(f\"Time 1 :{t1}\")\n",
    "print(f\"Time 2 :{t2}\")\n",
    "print(f\"Sum :{t3}\")"
   ]
  },
  {
   "cell_type": "code",
   "execution_count": 11,
   "id": "dc28fb21-13b6-4df9-9bc3-d4f530c94d59",
   "metadata": {},
   "outputs": [
    {
     "name": "stdin",
     "output_type": "stream",
     "text": [
      "publisher: jahana\n",
      "title: life\n",
      "author: jahana\n",
      "price:  300\n",
      "pages:  260\n"
     ]
    },
    {
     "name": "stdout",
     "output_type": "stream",
     "text": [
      "\n",
      "--- Book info---\n",
      "publisher: jahana\n",
      "Title: life\n",
      "Author:jahana\n",
      "price:$300.0\n",
      "pages: 260\n"
     ]
    }
   ],
   "source": [
    "#5 Create a class Publisher (name). Derive class Book from Publisher with attributes title and author. Derive class Python from Book with attributes price and no_of_pages. Write a program that displays information about a Python book. Use base class constructor invocation and method overriding.\n",
    "\n",
    "class publisher:\n",
    "    def __init__(self,name): self.name =name\n",
    "    def display(self): print(f\"publisher: {self.name}\")\n",
    "        \n",
    "class Book(publisher):\n",
    "    def __init__(self,name,title ,author):\n",
    "        super().__init__(name)\n",
    "        self.title,self.author = title ,author\n",
    "        \n",
    "    def display(self):\n",
    "        super().display()\n",
    "        print(f\"Title: {self.title}\\nAuthor:{self.author}\")\n",
    "        \n",
    "class python(Book):\n",
    "    def  __init__(self,name,title,author,price,pages):\n",
    "        super().__init__(name,title,author)\n",
    "        self.price,self.pages =price,pages\n",
    "        \n",
    "    def display(self):\n",
    "        super().display()\n",
    "        print(f\"price:${self.price}\\npages: {self.pages}\")\n",
    "        \n",
    "publisher_name = input(\"publisher:\")\n",
    "book_title = input(\"title:\")\n",
    "book_author = input(\"author:\")\n",
    "python_price =float(input(\"price: \"))\n",
    "python_pages =int(input(\"pages: \"))\n",
    "\n",
    "python_book =python(publisher_name,book_title,book_author,python_price,python_pages)\n",
    "\n",
    "print(\"\\n--- Book info---\")\n",
    "python_book.display()"
   ]
  },
  {
   "cell_type": "code",
   "execution_count": null,
   "id": "d3ac7217-0b02-4e5b-9752-4e90d474b135",
   "metadata": {},
   "outputs": [],
   "source": []
  }
 ],
 "metadata": {
  "kernelspec": {
   "display_name": "Python 3 (ipykernel)",
   "language": "python",
   "name": "python3"
  },
  "language_info": {
   "codemirror_mode": {
    "name": "ipython",
    "version": 3
   },
   "file_extension": ".py",
   "mimetype": "text/x-python",
   "name": "python",
   "nbconvert_exporter": "python",
   "pygments_lexer": "ipython3",
   "version": "3.11.9"
  }
 },
 "nbformat": 4,
 "nbformat_minor": 5
}
