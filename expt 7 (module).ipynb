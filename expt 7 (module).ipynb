{
 "cells": [
  {
   "cell_type": "code",
   "execution_count": 1,
   "id": "abe36bc8-50c6-4240-b51f-23e6745ef112",
   "metadata": {},
   "outputs": [
    {
     "name": "stdin",
     "output_type": "stream",
     "text": [
      "Enter a number: 3\n",
      "Enter a number: 4\n",
      "Enter radius: 5\n"
     ]
    },
    {
     "name": "stdout",
     "output_type": "stream",
     "text": [
      "Area of rectangle= 12\n",
      "Perimeter of rectangle= 14\n",
      "Area of circle= 78.5\n",
      "perimeter of circle=31.40\n"
     ]
    }
   ],
   "source": [
    "#1.Area and perimeter \n",
    "import rect\n",
    "import circle\n",
    "l=int(input(\"Enter a number:\"))\n",
    "b=int(input(\"Enter a number:\"))\n",
    "r=int(input(\"Enter radius:\"))\n",
    "a=rect.area(l,b)\n",
    "print(\"Area of rectangle=\",a)\n",
    "p=rect.perimeter(l,b)\n",
    "print(\"Perimeter of rectangle=\",p)\n",
    "ca=circle.area(r)\n",
    "print(\"Area of circle=\",ca)\n",
    "cp=circle.perimeter(r)\n",
    "print(f\"perimeter of circle={cp:.2f}\")"
   ]
  },
  {
   "cell_type": "code",
   "execution_count": null,
   "id": "015f353f-3f12-4ad1-9964-ba1fa87d588b",
   "metadata": {},
   "outputs": [],
   "source": []
  }
 ],
 "metadata": {
  "kernelspec": {
   "display_name": "Python 3 (ipykernel)",
   "language": "python",
   "name": "python3"
  },
  "language_info": {
   "codemirror_mode": {
    "name": "ipython",
    "version": 3
   },
   "file_extension": ".py",
   "mimetype": "text/x-python",
   "name": "python",
   "nbconvert_exporter": "python",
   "pygments_lexer": "ipython3",
   "version": "3.11.9"
  }
 },
 "nbformat": 4,
 "nbformat_minor": 5
}
