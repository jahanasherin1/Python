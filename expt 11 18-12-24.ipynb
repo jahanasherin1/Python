{
 "cells": [
  {
   "cell_type": "code",
   "execution_count": 2,
   "id": "e263313d-a349-4cd5-9f7d-74f4a6ce2eb5",
   "metadata": {},
   "outputs": [
    {
     "name": "stdin",
     "output_type": "stream",
     "text": [
      "Enter emails and phone numbers separated by commas:  jahana@gmail.com , 1234567890\n"
     ]
    },
    {
     "name": "stdout",
     "output_type": "stream",
     "text": [
      "\n",
      "Valid Emails:\n",
      "- jahana@gmail.com\n",
      "\n",
      "Valid Phone Numbers:\n",
      "- 1234567890\n"
     ]
    }
   ],
   "source": [
    "#accepts a list of email addresses and phone numbers from the user, separated by commas, and validates each input using regular expressions\n",
    "import re\n",
    "\n",
    "email_pattern = r\"^[a-zA-Z0-9._%+-]+@[a-zA-Z0-9.-]+\\.[a-zA-Z]{2,}$\"\n",
    "phone_pattern = r\"^\\+?\\d{0,2}[-\\s]?\\d{10}$\"\n",
    "\n",
    "inputs = input(\"Enter emails and phone numbers separated by commas: \").split(\",\")\n",
    "valid_emails, valid_phone_numbers = [], []\n",
    "\n",
    "for item in inputs:\n",
    "    if re.match(email_pattern, item.strip()):\n",
    "        valid_emails.append(item.strip())\n",
    "    elif re.match(phone_pattern, item.strip()):\n",
    "        valid_phone_numbers.append(item.strip())\n",
    "\n",
    "print(\"\\nValid Emails:\")\n",
    "for email in valid_emails:\n",
    "    print(f\"- {email}\")\n",
    "\n",
    "print(\"\\nValid Phone Numbers:\")\n",
    "for phone in valid_phone_numbers:\n",
    "    print(f\"- {phone}\")"
   ]
  },
  {
   "cell_type": "code",
   "execution_count": null,
   "id": "da0273b8-4f0b-439d-a95f-2aa3f9ddc509",
   "metadata": {},
   "outputs": [],
   "source": []
  }
 ],
 "metadata": {
  "kernelspec": {
   "display_name": "Python 3 (ipykernel)",
   "language": "python",
   "name": "python3"
  },
  "language_info": {
   "codemirror_mode": {
    "name": "ipython",
    "version": 3
   },
   "file_extension": ".py",
   "mimetype": "text/x-python",
   "name": "python",
   "nbconvert_exporter": "python",
   "pygments_lexer": "ipython3",
   "version": "3.11.9"
  }
 },
 "nbformat": 4,
 "nbformat_minor": 5
}
