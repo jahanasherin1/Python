{
 "cells": [
  {
   "cell_type": "code",
   "execution_count": 1,
   "id": "8180fbf8-5702-4218-98c5-bcc91940c96b",
   "metadata": {},
   "outputs": [
    {
     "name": "stdin",
     "output_type": "stream",
     "text": [
      "Enter the source file:  abc.txt\n"
     ]
    },
    {
     "name": "stdout",
     "output_type": "stream",
     "text": [
      "lines in the file:  6\n"
     ]
    }
   ],
   "source": [
    "#1. read a file line by line and store it into a list. \n",
    "l=[]\n",
    "file1=input(\"Enter the source file: \")\n",
    "f=open(file1,\"r\")\n",
    "for line in f.readlines():\n",
    "    l.append(line)\n",
    "print(\"lines in the file: \",len(l))"
   ]
  },
  {
   "cell_type": "code",
   "execution_count": 3,
   "id": "8f65e4bf-5355-4126-9448-7039f834b25a",
   "metadata": {},
   "outputs": [
    {
     "name": "stdin",
     "output_type": "stream",
     "text": [
      "Enter the source file:  abc.txt\n",
      "Enter destination file:  pqrs.txt\n"
     ]
    },
    {
     "name": "stdout",
     "output_type": "stream",
     "text": [
      "Odd lines copied to destination pqrs.txt\n"
     ]
    }
   ],
   "source": [
    "#2.copy odd lines of one file to other \n",
    "file1=input(\"Enter the source file: \")\n",
    "file2=input(\"Enter destination file: \")\n",
    "f1=open(file1,\"r\")\n",
    "f2=open(file2,\"w\")\n",
    "i=0\n",
    "for line in f1.readlines():\n",
    "    i=i+1\n",
    "    if i%2==0:\n",
    "        continue\n",
    "    f2.write(line)\n",
    "print(\"Odd lines copied to destination pqrs.txt\")\n",
    "f1.close()\n",
    "f2.close()"
   ]
  },
  {
   "cell_type": "code",
   "execution_count": 4,
   "id": "c22eaeb2-e821-4e66-948a-ba51834a235d",
   "metadata": {},
   "outputs": [
    {
     "name": "stdin",
     "output_type": "stream",
     "text": [
      "Enter csv file name:  str.csv\n"
     ]
    },
    {
     "name": "stdout",
     "output_type": "stream",
     "text": [
      "Read and print list of string ['jahana sherin ik ']\n",
      "Read and print list of string ['mca']\n"
     ]
    }
   ],
   "source": [
    "#3. read each row from a given csv file and print a list of strings. \n",
    "import csv\n",
    "fname=input(\"Enter csv file name: \")\n",
    "f1=open(fname,\"r\")\n",
    "reader=csv.reader(f1)\n",
    "for row in reader:\n",
    "    print(\"Read and print list of string\",row)\n",
    "f1.close()"
   ]
  },
  {
   "cell_type": "code",
   "execution_count": 4,
   "id": "f1d77ad5-4d60-4af7-b7ad-9e45574eaf8f",
   "metadata": {},
   "outputs": [
    {
     "name": "stdin",
     "output_type": "stream",
     "text": [
      "Enter CSV file name:  string.csv\n",
      "Enter the column indices:  1,2\n"
     ]
    },
    {
     "name": "stdout",
     "output_type": "stream",
     "text": [
      "['jahana', 'sales']\n",
      "['frina', 'hr']\n",
      "['deptname', 'TE']\n"
     ]
    }
   ],
   "source": [
    "#4.read specific columns of a given CSV file and print the content of the columns. \n",
    "import csv\n",
    "\n",
    "fname = input(\"Enter CSV file name: \")\n",
    "col_input = input(\"Enter the column indices: \")\n",
    "col_to_read = [int(index) for index in col_input.split(',')]\n",
    "\n",
    "f1 = open(fname, \"r\")\n",
    "reader = csv.reader(f1)\n",
    "\n",
    "for row in reader:\n",
    "     sel_col = [row[i] for i in col_to_read if i < len(row)]\n",
    "     print(sel_col)\n"
   ]
  },
  {
   "cell_type": "code",
   "execution_count": 5,
   "id": "c7a51f8e-16dd-4137-a380-4d781deba358",
   "metadata": {},
   "outputs": [
    {
     "name": "stdin",
     "output_type": "stream",
     "text": [
      "Enter new source file name:  kmct.csv\n",
      "Enter comma seperated empid,empname,dptname,dob,salary:  321,ajay,sales,12/07/2003,50lakh\n",
      "Enter comma seperated empid,empname,dptname,dob,salary:  123,jahana,manaager,12/08/2002,15lakh\n"
     ]
    },
    {
     "name": "stdout",
     "output_type": "stream",
     "text": [
      "The csv file contains: \n",
      "{None: ['321', 'ajay', 'sales', '12/07/2003', '50lakh']}\n",
      "{None: ['123', 'jahana', 'manaager', '12/08/2002', '15lakh']}\n"
     ]
    }
   ],
   "source": [
    "#5 write a Python dictionary to a csv file.\n",
    "import csv\n",
    "file1=input(\"Enter new source file name: \")\n",
    "with open(file1,\"a+\",newline='')as f1:\n",
    "    empdata=[\"empid\",\"empname\",\"dptname\",\"dob\",\"salary\"]\n",
    "    l=[]\n",
    "    writer=csv.DictWriter(f1,fieldnames=empdata)\n",
    "    for i in range(2):\n",
    "        l=list(input(\"Enter comma seperated empid,empname,dptname,dob,salary: \").split(\",\"))\n",
    "        writer.writerow({'empid':l[0],'empname':l[1],'dptname':l[2],'dob':l[3],'salary':l[4]})\n",
    "        l.clear()\n",
    "    print(\"The csv file contains: \")\n",
    "    with open(file1,'r') as f2:\n",
    "        rdr=csv.DictReader(f2)\n",
    "        for item in rdr:\n",
    "            print(dict(item))"
   ]
  },
  {
   "cell_type": "code",
   "execution_count": null,
   "id": "bde12eff-f8a6-42da-a1a2-8157dcfa3cee",
   "metadata": {},
   "outputs": [],
   "source": []
  }
 ],
 "metadata": {
  "kernelspec": {
   "display_name": "Python 3 (ipykernel)",
   "language": "python",
   "name": "python3"
  },
  "language_info": {
   "codemirror_mode": {
    "name": "ipython",
    "version": 3
   },
   "file_extension": ".py",
   "mimetype": "text/x-python",
   "name": "python",
   "nbconvert_exporter": "python",
   "pygments_lexer": "ipython3",
   "version": "3.11.9"
  }
 },
 "nbformat": 4,
 "nbformat_minor": 5
}
