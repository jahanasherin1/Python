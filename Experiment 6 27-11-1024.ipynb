{
 "cells": [
  {
   "cell_type": "code",
   "execution_count": 2,
   "id": "1e720639-117b-490a-bf9d-05eac6ecfc95",
   "metadata": {},
   "outputs": [
    {
     "name": "stdin",
     "output_type": "stream",
     "text": [
      "Enter a year: 2012\n",
      "Enter a year: 2045\n"
     ]
    },
    {
     "name": "stdout",
     "output_type": "stream",
     "text": [
      "The leap year in range=\n",
      "2012\n",
      "2016\n",
      "2020\n",
      "2024\n",
      "2028\n",
      "2032\n",
      "2036\n",
      "2040\n",
      "2044\n"
     ]
    }
   ],
   "source": [
    "#1.leap years in range\n",
    "def leapyr(s,e):\n",
    "    for i in range (s,e+1):\n",
    "        if(i%4==0 and i %100 != 0):\n",
    "            print(i)\n",
    "s=int(input(\"Enter a year:\"))\n",
    "e=int(input(\"Enter a year:\"))\n",
    "print(\"The leap year in range=\")\n",
    "leapyr(s,e)"
   ]
  },
  {
   "cell_type": "code",
   "execution_count": 4,
   "id": "959d1800-1d1a-4b24-9aaa-b046f8eddaf5",
   "metadata": {},
   "outputs": [
    {
     "name": "stdin",
     "output_type": "stream",
     "text": [
      "Enter a number: 5\n"
     ]
    },
    {
     "name": "stdout",
     "output_type": "stream",
     "text": [
      "Factorial of 5 = 120\n"
     ]
    }
   ],
   "source": [
    "#2.factorial of a number\n",
    "def fact(n):\n",
    "    ft=1\n",
    "    for i in range(1,n+1):\n",
    "        ft=ft*i\n",
    "    print(f\"Factorial of {n} = {ft}\")\n",
    "\n",
    "n=int(input(\"Enter a number:\"))\n",
    "fact(n)"
   ]
  },
  {
   "cell_type": "code",
   "execution_count": 1,
   "id": "a860ab7f-8e63-4c49-856b-ea1af47349b0",
   "metadata": {},
   "outputs": [
    {
     "name": "stdin",
     "output_type": "stream",
     "text": [
      "Enter a number:  5\n"
     ]
    },
    {
     "name": "stdout",
     "output_type": "stream",
     "text": [
      "Fibnocci series of 5\n",
      "0\n",
      "1\n",
      "1\n",
      "2\n",
      "3\n",
      "5\n"
     ]
    }
   ],
   "source": [
    "#3.fibnacci series\n",
    "\n",
    "def fib(n):\n",
    "    a=1;b=0;c=0\n",
    "    while(c<=n):\n",
    "        print(c)\n",
    "        \n",
    "        c=a+b\n",
    "        a=b\n",
    "        b=c\n",
    "        \n",
    "a=int(input(\"Enter a number: \")) \n",
    "print(\"Fibnocci series of\",a)\n",
    "fib(a)"
   ]
  },
  {
   "cell_type": "code",
   "execution_count": 5,
   "id": "9adf5f3e-1e98-4193-89f5-183737d6043d",
   "metadata": {},
   "outputs": [
    {
     "name": "stdin",
     "output_type": "stream",
     "text": [
      "Enter words:  jahanasherin frina\n"
     ]
    },
    {
     "name": "stdout",
     "output_type": "stream",
     "text": [
      "The longest word is 'jahanasherin' with 12 characters.\n"
     ]
    }
   ],
   "source": [
    "#4.return the longest word \n",
    "\n",
    "def fword(w):\n",
    "    maxc=max(w,key=len)\n",
    "    print(f\"The longest word is '{maxc}' with {len(maxc)} characters.\")\n",
    "\n",
    "# Input words from the user, split by space\n",
    "words = input(\"Enter words: \").split()    \n",
    "fword(words)\n"
   ]
  },
  {
   "cell_type": "code",
   "execution_count": 1,
   "id": "c547a9fb-4228-4a89-84f2-1818f59c3b60",
   "metadata": {},
   "outputs": [
    {
     "name": "stdout",
     "output_type": "stream",
     "text": [
      "* \n",
      "* * \n",
      "* * * \n",
      "* * * * \n",
      "* * * * * \n",
      "* * * * \n",
      "* * * \n",
      "* * \n",
      "* \n"
     ]
    }
   ],
   "source": [
    "#5. Construct * pattern using nested loop\n",
    "def path(n):\n",
    "    for _ in range(n):\n",
    "        print(\"* \",end=\"\")\n",
    "    print()\n",
    "n=1\n",
    "j=0\n",
    "while j<9:\n",
    "    path(n)\n",
    "    j+=1\n",
    "    if j<5:\n",
    "        n+=1\n",
    "    else:\n",
    "        n-=1"
   ]
  },
  {
   "cell_type": "code",
   "execution_count": 5,
   "id": "116bf8ee-9887-4570-93b0-993ac0f89605",
   "metadata": {},
   "outputs": [
    {
     "name": "stdin",
     "output_type": "stream",
     "text": [
      "enter a number: 6\n"
     ]
    },
    {
     "name": "stdout",
     "output_type": "stream",
     "text": [
      "factors of 6 are:\n",
      "1\n",
      "2\n",
      "3\n",
      "6\n"
     ]
    }
   ],
   "source": [
    "#6 all factors of a number.\n",
    "def factors(num):\n",
    "    for i in range(1,num+1):\n",
    "        if num%i==0:\n",
    "            print(i)\n",
    "num=int(input(\"enter a number:\"))\n",
    "print(\"factors of\",num,\"are:\")\n",
    "factors(num)"
   ]
  },
  {
   "cell_type": "code",
   "execution_count": 6,
   "id": "cc44ecbe-5329-4756-8bd2-6af263f71ca7",
   "metadata": {},
   "outputs": [
    {
     "name": "stdin",
     "output_type": "stream",
     "text": [
      "enter the number of steps: 5\n"
     ]
    },
    {
     "name": "stdout",
     "output_type": "stream",
     "text": [
      "1 \n",
      "2 4 \n",
      "3 6 9 \n",
      "4 8 12 16 \n",
      "5 10 15 20 25 \n"
     ]
    }
   ],
   "source": [
    "#7. given pyramid with step number accepted from user.\n",
    "def pyramid(n):\n",
    "    for i in range(1,n+1):\n",
    "        for j in range(1,i+1):\n",
    "            print(i*j,end=\" \")\n",
    "        print()\n",
    "n=int(input(\"enter the number of steps:\"))\n",
    "pyramid(n)"
   ]
  },
  {
   "cell_type": "code",
   "execution_count": 8,
   "id": "be999029-ff35-4076-856e-db68cbbca750",
   "metadata": {},
   "outputs": [
    {
     "name": "stdin",
     "output_type": "stream",
     "text": [
      "enter the side of square: 4\n",
      "enter the width for rectangle: 7\n",
      "enter the lenght of rectangle 8\n",
      "enter the breath of triangle: 3\n",
      "enter the heigth of triangle: 9\n"
     ]
    },
    {
     "name": "stdout",
     "output_type": "stream",
     "text": [
      "area of square: 16\n",
      "area of rectangle: 56\n",
      "area of triangle: 13.5\n"
     ]
    }
   ],
   "source": [
    "#8.lambda functions to find area of square, rectangle and triangle.\n",
    "side=int(input(\"enter the side of square:\"))\n",
    "width=int(input(\"enter the width for rectangle:\"))\n",
    "length=int(input(\"enter the lenght of rectangle\"))\n",
    "breadth=int(input(\"enter the breath of triangle:\"))\n",
    "height=int(input(\"enter the heigth of triangle:\"))\n",
    "\n",
    "square=lambda sides:sides*sides\n",
    "rectangle=lambda width,length:width*length\n",
    "triangle=lambda breadth,height:0.5*height*breadth\n",
    "print(\"area of square:\",square(side))\n",
    "print(\"area of rectangle:\",rectangle(width,length))\n",
    "print(\"area of triangle:\",triangle(breadth,height))\n"
   ]
  },
  {
   "cell_type": "code",
   "execution_count": null,
   "id": "334d64db-ae9d-422f-9891-92a2d9b55f2b",
   "metadata": {},
   "outputs": [],
   "source": []
  }
 ],
 "metadata": {
  "kernelspec": {
   "display_name": "Python 3 (ipykernel)",
   "language": "python",
   "name": "python3"
  },
  "language_info": {
   "codemirror_mode": {
    "name": "ipython",
    "version": 3
   },
   "file_extension": ".py",
   "mimetype": "text/x-python",
   "name": "python",
   "nbconvert_exporter": "python",
   "pygments_lexer": "ipython3",
   "version": "3.11.9"
  }
 },
 "nbformat": 4,
 "nbformat_minor": 5
}
