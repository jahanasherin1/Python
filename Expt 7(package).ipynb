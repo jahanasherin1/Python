{
 "cells": [
  {
   "cell_type": "code",
   "execution_count": 6,
   "id": "2b74c81d-39eb-4a55-8d52-0a6ba77a67e4",
   "metadata": {},
   "outputs": [
    {
     "name": "stdout",
     "output_type": "stream",
     "text": [
      "Circle\n"
     ]
    },
    {
     "name": "stdin",
     "output_type": "stream",
     "text": [
      "Enter radius: 4\n"
     ]
    },
    {
     "name": "stdout",
     "output_type": "stream",
     "text": [
      "Area: 50.24\n",
      "permiter: 25.12\n",
      "---------------\n",
      "\n",
      "Rectangle\n"
     ]
    },
    {
     "name": "stdin",
     "output_type": "stream",
     "text": [
      "Enter length: 5\n",
      "Enter breadth: 6\n"
     ]
    },
    {
     "name": "stdout",
     "output_type": "stream",
     "text": [
      "Area: 30\n",
      "permiter: 22\n",
      "---------------\n",
      "\n",
      "Sphere\n"
     ]
    },
    {
     "name": "stdin",
     "output_type": "stream",
     "text": [
      "Enter radius: 4\n"
     ]
    },
    {
     "name": "stdout",
     "output_type": "stream",
     "text": [
      "Surfacearea: 200.96\n",
      "Circumference: 25.12\n",
      "---------------\n",
      "\n",
      "Cuboid\n"
     ]
    },
    {
     "name": "stdin",
     "output_type": "stream",
     "text": [
      "Enter length: 5\n",
      "Enter width: 6\n",
      "Enter height: 8\n"
     ]
    },
    {
     "name": "stdout",
     "output_type": "stream",
     "text": [
      "Area: 236\n",
      "Permiter: 22\n",
      "---------------\n",
      "\n"
     ]
    }
   ],
   "source": [
    "#2.Create a package graphics with modules rectangle, circle and sub package graphics3D\n",
    "#with modules cuboid and sphere.\n",
    "\n",
    "import graphics.circle\n",
    "print(\"Circle\")\n",
    "r=int(input(\"Enter radius:\"))\n",
    "print(\"Area:\",graphics.circle.area(r))\n",
    "print(\"permiter:\",graphics.circle.perimeter(r))\n",
    "print(\"---------------\\n\")\n",
    "\n",
    "\n",
    "\n",
    "import graphics.rectangle\n",
    "print(\"Rectangle\")\n",
    "l=int(input(\"Enter length:\"))\n",
    "b=int(input(\"Enter breadth:\"))\n",
    "print(\"Area:\",graphics.rectangle.area(l,b))\n",
    "print(\"permiter:\",graphics.rectangle.perimeter(l,b))\n",
    "print(\"---------------\\n\")\n",
    "\n",
    "\n",
    "import graphics.graphics3D.sphere\n",
    "print(\"Sphere\")\n",
    "r=int(input(\"Enter radius:\"))\n",
    "print(\"Surfacearea:\",graphics.graphics3D.sphere.surfacearea(r))\n",
    "print(\"Circumference:\",graphics.graphics3D.sphere.circumference(r))\n",
    "print(\"---------------\\n\")\n",
    "\n",
    "\n",
    "import graphics.graphics3D.cuboid\n",
    "print(\"Cuboid\")\n",
    "l=int(input(\"Enter length:\"))\n",
    "w=int(input(\"Enter width:\"))\n",
    "h=int(input(\"Enter height:\"))\n",
    "print(\"Area:\", graphics.graphics3D.cuboid.area(l, w, h))\n",
    "print(\"Permiter:\",graphics.graphics3D.cuboid.perimeter(l,w))\n",
    "print(\"---------------\\n\")"
   ]
  },
  {
   "cell_type": "code",
   "execution_count": null,
   "id": "0e10d2a8-8349-48c8-80f3-874bfd6c0cd7",
   "metadata": {},
   "outputs": [],
   "source": []
  },
  {
   "cell_type": "code",
   "execution_count": null,
   "id": "088fa3fa-1c32-4d08-bd16-3e39495b90e9",
   "metadata": {},
   "outputs": [],
   "source": []
  }
 ],
 "metadata": {
  "kernelspec": {
   "display_name": "Python 3 (ipykernel)",
   "language": "python",
   "name": "python3"
  },
  "language_info": {
   "codemirror_mode": {
    "name": "ipython",
    "version": 3
   },
   "file_extension": ".py",
   "mimetype": "text/x-python",
   "name": "python",
   "nbconvert_exporter": "python",
   "pygments_lexer": "ipython3",
   "version": "3.11.9"
  }
 },
 "nbformat": 4,
 "nbformat_minor": 5
}
