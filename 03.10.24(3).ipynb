{
 "cells": [
  {
   "cell_type": "code",
   "execution_count": 1,
   "id": "c1b60f3f-eed8-4268-abde-7b06d5da025a",
   "metadata": {},
   "outputs": [
    {
     "name": "stdin",
     "output_type": "stream",
     "text": [
      "Enter any number: 7\n"
     ]
    },
    {
     "name": "stdout",
     "output_type": "stream",
     "text": [
      "a is positive 7.0\n"
     ]
    }
   ],
   "source": [
    "a=float(input(\"Enter any number:\"))\n",
    "if a<0:\n",
    "    print(\"a is negative\",a)\n",
    "elif a>0:\n",
    "    print(\"a is positive\",a)\n",
    "else:\n",
    "    print(\"a is zero\",a)"
   ]
  },
  {
   "cell_type": "code",
   "execution_count": 2,
   "id": "068edfcb-8592-4d55-b972-c13f35680a53",
   "metadata": {},
   "outputs": [
    {
     "name": "stdin",
     "output_type": "stream",
     "text": [
      "Enter any number: 3\n"
     ]
    },
    {
     "name": "stdout",
     "output_type": "stream",
     "text": [
      "a is odd\n"
     ]
    }
   ],
   "source": [
    "a=float(input(\"Enter any number:\"))\n",
    "if a%2==0:\n",
    "    print(\"a is even\")\n",
    "else:\n",
    "    print(\"a is odd\")"
   ]
  },
  {
   "cell_type": "code",
   "execution_count": 3,
   "id": "30230d0a-59f9-4412-9051-b1cc44d2a59a",
   "metadata": {},
   "outputs": [
    {
     "name": "stdin",
     "output_type": "stream",
     "text": [
      "Enter a number: 5\n",
      "Enter a number: 6\n"
     ]
    },
    {
     "name": "stdout",
     "output_type": "stream",
     "text": [
      "a= 6.0\n",
      "b= 5.0\n"
     ]
    }
   ],
   "source": [
    "a=float(input(\"Enter a number:\"))\n",
    "b=float(input(\"Enter a number:\"))\n",
    "a,b=b,a\n",
    "print(\"a=\",a)\n",
    "print(\"b=\",b)"
   ]
  },
  {
   "cell_type": "code",
   "execution_count": 5,
   "id": "c3859c17-ce9f-4adc-b95d-46d887c63fa1",
   "metadata": {},
   "outputs": [
    {
     "name": "stdin",
     "output_type": "stream",
     "text": [
      "Enter any character: f\n"
     ]
    },
    {
     "name": "stdout",
     "output_type": "stream",
     "text": [
      "f is not vowel\n"
     ]
    }
   ],
   "source": [
    "a=input(\"Enter any character:\")\n",
    "if(a=='a' or a=='e' or a=='i' or a=='o' or a=='u'):\n",
    "    print(f\"{a} is vowel\")\n",
    "else:\n",
    "    print(f\"{a} is not vowel\")"
   ]
  },
  {
   "cell_type": "code",
   "execution_count": 6,
   "id": "588ba941-b43d-4feb-9da9-bf2df7017086",
   "metadata": {},
   "outputs": [
    {
     "name": "stdin",
     "output_type": "stream",
     "text": [
      "Enter a number: 8\n"
     ]
    },
    {
     "name": "stdout",
     "output_type": "stream",
     "text": [
      "square of the number= 64.0\n"
     ]
    }
   ],
   "source": [
    "a=float(input(\"Enter a number:\"))\n",
    "sq=a*a\n",
    "print(\"square of the number=\",sq)"
   ]
  },
  {
   "cell_type": "code",
   "execution_count": 1,
   "id": "3477c77c-9325-41e8-a409-669d403aa56f",
   "metadata": {},
   "outputs": [
    {
     "name": "stdin",
     "output_type": "stream",
     "text": [
      "Enter a number: 60\n"
     ]
    },
    {
     "name": "stdout",
     "output_type": "stream",
     "text": [
      "60.0 is divisible by 5\n"
     ]
    }
   ],
   "source": [
    "a=float(input(\"Enter a number:\"))\n",
    "if a%5==0:\n",
    "    print(f\"{a} is divisible by 5\")\n",
    "else:\n",
    "    print(f\"{a} is not divisible bt 5\")"
   ]
  },
  {
   "cell_type": "code",
   "execution_count": 2,
   "id": "1455c5b7-301b-48e4-9d98-926456f546b5",
   "metadata": {},
   "outputs": [
    {
     "name": "stdin",
     "output_type": "stream",
     "text": [
      "Enter a year: 2003\n"
     ]
    },
    {
     "name": "stdout",
     "output_type": "stream",
     "text": [
      "2003 is not a leap year\n"
     ]
    }
   ],
   "source": [
    "a=int(input(\"Enter a year:\"))\n",
    "if a%4==0 or a%400==0:\n",
    "    print(f\"{a} is a leap year\")\n",
    "else:\n",
    "    print(f\"{a} is not a leap year\")"
   ]
  },
  {
   "cell_type": "code",
   "execution_count": 5,
   "id": "a7eaa9b3-3bf1-4a1b-8c12-686e6f7de268",
   "metadata": {},
   "outputs": [
    {
     "name": "stdin",
     "output_type": "stream",
     "text": [
      "Enter a string: apple\n"
     ]
    },
    {
     "name": "stdout",
     "output_type": "stream",
     "text": [
      "length of the string:5\n",
      "apple is lowerercase\n"
     ]
    }
   ],
   "source": [
    "string=input(\"Enter a string:\")\n",
    "length=len(string)\n",
    "print(f\"length of the string:{length}\")\n",
    "if string.isupper():\n",
    "    print(f\"{string} is uppercase\")\n",
    "elif string.islower():\n",
    "    print(f\"{string} is lowerercase\")\n",
    "else:\n",
    "    print(f\"{string} contains both uppercase and lowerercase\")"
   ]
  },
  {
   "cell_type": "code",
   "execution_count": null,
   "id": "849c237c-6a3a-42c9-b351-daf7722dd417",
   "metadata": {},
   "outputs": [],
   "source": []
  }
 ],
 "metadata": {
  "kernelspec": {
   "display_name": "Python 3 (ipykernel)",
   "language": "python",
   "name": "python3"
  },
  "language_info": {
   "codemirror_mode": {
    "name": "ipython",
    "version": 3
   },
   "file_extension": ".py",
   "mimetype": "text/x-python",
   "name": "python",
   "nbconvert_exporter": "python",
   "pygments_lexer": "ipython3",
   "version": "3.11.9"
  }
 },
 "nbformat": 4,
 "nbformat_minor": 5
}
