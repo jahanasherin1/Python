{
 "cells": [
  {
   "cell_type": "code",
   "execution_count": 3,
   "id": "e558e0e3-58e9-498f-abe2-7c4b9511edf2",
   "metadata": {},
   "outputs": [
    {
     "name": "stdin",
     "output_type": "stream",
     "text": [
      "Enter 1st number: 6\n",
      "Enter 2nd number: 12\n"
     ]
    },
    {
     "name": "stdout",
     "output_type": "stream",
     "text": [
      "GCD= 6\n"
     ]
    }
   ],
   "source": [
    "#1. gcd of 2 numbers.\n",
    "a=int(input(\"Enter 1st number:\"))\n",
    "b=int(input(\"Enter 2nd number:\"))\n",
    "while b:\n",
    "    a,b=b,a%b\n",
    "print(\"GCD=\",a)"
   ]
  },
  {
   "cell_type": "code",
   "execution_count": 5,
   "id": "c4850fd4-a539-4168-ad86-b53d4f27f8cf",
   "metadata": {},
   "outputs": [
    {
     "name": "stdin",
     "output_type": "stream",
     "text": [
      "Enter numbers: 30,40,35,23,13\n"
     ]
    },
    {
     "name": "stdout",
     "output_type": "stream",
     "text": [
      "Even numbers removed list= ['35', '23', '13']\n"
     ]
    }
   ],
   "source": [
    "#2.From a list of integers, create a list removing even numbers.\n",
    "n=input(\"Enter numbers:\").split(\",\")\n",
    "n_list=[]\n",
    "for i in n:\n",
    "    if int(i)%2 !=0:\n",
    "        n_list.append(i)\n",
    "print(\"Even numbers removed list=\",n_list)"
   ]
  },
  {
   "cell_type": "code",
   "execution_count": 4,
   "id": "5c7dfb52-4dfd-4a21-b8ae-c1c97f22ee97",
   "metadata": {},
   "outputs": [
    {
     "name": "stdin",
     "output_type": "stream",
     "text": [
      "Enter numbers: 1,2,3,4,5\n"
     ]
    },
    {
     "name": "stdout",
     "output_type": "stream",
     "text": [
      "Sum= 15\n"
     ]
    }
   ],
   "source": [
    "#3.sum of all items in a list\n",
    "n=input(\"Enter numbers:\").split(\",\")\n",
    "sum=0\n",
    "for i in n:\n",
    "    sum=sum+int(i)\n",
    "print(\"Sum=\",sum)"
   ]
  },
  {
   "cell_type": "code",
   "execution_count": 3,
   "id": "b1a8f61e-3c99-4c88-9282-1575aa550b16",
   "metadata": {},
   "outputs": [
    {
     "name": "stdin",
     "output_type": "stream",
     "text": [
      "Enter starting range= 3495\n",
      "Enter ending range= 9834\n"
     ]
    },
    {
     "name": "stdout",
     "output_type": "stream",
     "text": [
      "Number With all digit even and perfect square:\n",
      "4624\n",
      "6084\n",
      "6400\n",
      "8464\n"
     ]
    }
   ],
   "source": [
    "#4. Generate a list of four digit numbers in a given range with all their digits even and the number is a perfect square.\n",
    "import math\n",
    "start=int(input(\"Enter starting range=\"))\n",
    "end=int(input(\"Enter ending range=\"))\n",
    "print(\"Number With all digit even and perfect square:\")\n",
    "for n in range(start, end+1):\n",
    "    if all(int(digit)%2 ==0 for digit in str(n)):\n",
    "        root=int(math.sqrt(n))\n",
    "        if root * root == n:\n",
    "            print(n)"
   ]
  },
  {
   "cell_type": "code",
   "execution_count": 4,
   "id": "feedb74c-3424-40fd-8c83-1a62301a6a3e",
   "metadata": {},
   "outputs": [
    {
     "name": "stdin",
     "output_type": "stream",
     "text": [
      "Enter text: jahana\n"
     ]
    },
    {
     "name": "stdout",
     "output_type": "stream",
     "text": [
      "No.of characters in a string:\n",
      "j: 1\n",
      "a: 3\n",
      "h: 1\n",
      "n: 1\n"
     ]
    }
   ],
   "source": [
    "#5.Count the number of characters (character frequency) in a string.\n",
    "from collections import Counter\n",
    "text=input(\"Enter text:\")\n",
    "print(\"No.of characters in a string:\")\n",
    "for char,count in Counter(text).items():\n",
    "    print(f\"{char}: {count}\")"
   ]
  },
  {
   "cell_type": "code",
   "execution_count": 2,
   "id": "0052b388-0196-490a-b87f-318902522b10",
   "metadata": {},
   "outputs": [
    {
     "name": "stdin",
     "output_type": "stream",
     "text": [
      "Enter text: look\n"
     ]
    },
    {
     "name": "stdout",
     "output_type": "stream",
     "text": [
      "Modified text= looking\n"
     ]
    }
   ],
   "source": [
    "#6. Add ‘ing’ at the end of a given string. If it already ends with ‘ing’, then add ‘ly’\n",
    "text=input(\"Enter text:\")\n",
    "if text.endswith(\"ing\"):\n",
    "    print(\"Modified text=\",text+\"ly\")\n",
    "else:\n",
    "    print(\"Modified text=\",text+\"ing\")"
   ]
  },
  {
   "cell_type": "code",
   "execution_count": null,
   "id": "c6e33bcc-9d2e-43ac-a7f7-e58e44a5a8e6",
   "metadata": {},
   "outputs": [],
   "source": []
  }
 ],
 "metadata": {
  "kernelspec": {
   "display_name": "Python 3 (ipykernel)",
   "language": "python",
   "name": "python3"
  },
  "language_info": {
   "codemirror_mode": {
    "name": "ipython",
    "version": 3
   },
   "file_extension": ".py",
   "mimetype": "text/x-python",
   "name": "python",
   "nbconvert_exporter": "python",
   "pygments_lexer": "ipython3",
   "version": "3.11.9"
  }
 },
 "nbformat": 4,
 "nbformat_minor": 5
}
