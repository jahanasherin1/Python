{
 "cells": [
  {
   "cell_type": "code",
   "execution_count": 2,
   "id": "2ba9ac75-7d0e-4316-8f15-54f997404bc8",
   "metadata": {},
   "outputs": [
    {
     "name": "stdin",
     "output_type": "stream",
     "text": [
      "Enter text: hi hello hi\n"
     ]
    },
    {
     "name": "stdout",
     "output_type": "stream",
     "text": [
      "Occurrence of each word= [('hello', 1), ('hi', 2)]\n"
     ]
    }
   ],
   "source": [
    "#1.count the occurrences of each word in a line of text\n",
    "text=input(\"Enter text:\").split()\n",
    "print(\"Occurrence of each word=\",[(word,text.count(word)) for word in set(text)])"
   ]
  },
  {
   "cell_type": "code",
   "execution_count": 3,
   "id": "5257d89a-9d0b-492d-97ce-c4e038ae802e",
   "metadata": {},
   "outputs": [
    {
     "name": "stdin",
     "output_type": "stream",
     "text": [
      "Enter number: 1 5 678 340 10080 57809 34 987\n"
     ]
    },
    {
     "name": "stdout",
     "output_type": "stream",
     "text": [
      "Resultant list= [1, 5, 'over', 'over', 'over', 'over', 34, 'over']\n"
     ]
    }
   ],
   "source": [
    "#2.Prompt the user for a list of integers. For all values greater than 100, store ‘over’ instead.\n",
    "n=input(\"Enter number:\").split()\n",
    "n_list=(int(x) for x in n)\n",
    "result=[\"over\" if x>100 else x for x in n_list]\n",
    "print(\"Resultant list=\",result)"
   ]
  },
  {
   "cell_type": "code",
   "execution_count": 1,
   "id": "11ec80ac-4e8c-4a27-beca-b46361dfc34e",
   "metadata": {},
   "outputs": [
    {
     "name": "stdin",
     "output_type": "stream",
     "text": [
      "Enter names: jahana jinana frina hadeela\n"
     ]
    },
    {
     "name": "stdout",
     "output_type": "stream",
     "text": [
      "No.of 'a'= 8\n"
     ]
    }
   ],
   "source": [
    "#3.Store a list of first names. Count the occurrences of ‘a’ within the list.\n",
    "names=input(\"Enter names:\").split()\n",
    "print(\"No.of 'a'=\",sum([name.count('a') for name in names]))"
   ]
  },
  {
   "cell_type": "code",
   "execution_count": 6,
   "id": "246315e8-22bb-421f-ba9b-b3c018d8797f",
   "metadata": {},
   "outputs": [
    {
     "name": "stdin",
     "output_type": "stream",
     "text": [
      "Enter 1st list of integers separated by comma: 1,4,6,89,2\n",
      "Enter 1st list of integers separated by comma: 4,8,27,9\n"
     ]
    },
    {
     "name": "stdout",
     "output_type": "stream",
     "text": [
      "Same length: False\n",
      "Same sum: False\n",
      "Commom elements: True\n"
     ]
    }
   ],
   "source": [
    "#4.Enter 2 lists of integers.  \n",
    "#Check (a) Whether list are of same length \n",
    "#(b) whether list sums to same value \n",
    "#(c) whether any value occur in both.\n",
    "l1=list(map(int,input(\"Enter 1st list of integers separated by comma:\").split(\",\")))\n",
    "l2=list(map(int,input(\"Enter 1st list of integers separated by comma:\").split(\",\")))\n",
    "#a)\n",
    "print(\"Same length:\",len(l1)==len(l2))\n",
    "#b)\n",
    "print(\"Same sum:\",sum(l1)==sum(l2))\n",
    "#c)\n",
    "print(\"Commom elements:\",any([item in l2 for item in l1]))"
   ]
  },
  {
   "cell_type": "code",
   "execution_count": 7,
   "id": "79ee8fa1-c086-4808-98bc-a1a0edd71d69",
   "metadata": {},
   "outputs": [
    {
     "name": "stdin",
     "output_type": "stream",
     "text": [
      "Enter a number: 34 -7 89 -24\n"
     ]
    },
    {
     "name": "stdout",
     "output_type": "stream",
     "text": [
      "Positive list of numbers= [34, 89]\n"
     ]
    }
   ],
   "source": [
    "#5.(a) Generate positive list of numbers from a given list of integers \n",
    "n=input(\"Enter numbers:\").split()\n",
    "n_list=[int(x) for x in n if int(x)>0]\n",
    "print(\"Positive list of numbers=\",n_list)"
   ]
  },
  {
   "cell_type": "code",
   "execution_count": 6,
   "id": "d6ada191-49d1-4285-80c5-493a36fad9b8",
   "metadata": {},
   "outputs": [
    {
     "name": "stdin",
     "output_type": "stream",
     "text": [
      "Enter list of integers: 3 4 5\n"
     ]
    },
    {
     "name": "stdout",
     "output_type": "stream",
     "text": [
      "Square of numbers [9, 16, 25]\n"
     ]
    }
   ],
   "source": [
    "#5.(b)Square of N numbers \n",
    "n=map(int,input(\"Enter list of integers:\").split())\n",
    "print(\"Square of numbers\",[i**2 for i in n])"
   ]
  },
  {
   "cell_type": "code",
   "execution_count": 4,
   "id": "7aaa7711-f8ea-42a3-bc08-b3c76f6a69c7",
   "metadata": {},
   "outputs": [
    {
     "name": "stdin",
     "output_type": "stream",
     "text": [
      "Enter a string: jahana sherin\n"
     ]
    },
    {
     "name": "stdout",
     "output_type": "stream",
     "text": [
      "List of  vowels= ['a', 'a', 'a', 'e', 'i']\n"
     ]
    }
   ],
   "source": [
    "#5.(c) Form a list of vowels selected from a given word \n",
    "n=input(\"Enter a string:\")\n",
    "print(\"List of  vowels=\",[i for i in n.lower() if i in \"aeiou\"])"
   ]
  },
  {
   "cell_type": "code",
   "execution_count": 5,
   "id": "bb695d55-c926-4c13-be18-b28164e8634c",
   "metadata": {},
   "outputs": [
    {
     "name": "stdin",
     "output_type": "stream",
     "text": [
      "Enter a string: jahana\n"
     ]
    },
    {
     "name": "stdout",
     "output_type": "stream",
     "text": [
      "Ordinal value= [106, 97, 104, 97, 110, 97]\n"
     ]
    }
   ],
   "source": [
    "#5. (d) List ordinal value of each element of a word using ord() \n",
    "n=input(\"Enter a string:\")\n",
    "print(\"Ordinal value=\",[ord(i) for i in n])"
   ]
  },
  {
   "cell_type": "code",
   "execution_count": null,
   "id": "aa385678-1afe-43c7-8535-522e553db373",
   "metadata": {},
   "outputs": [],
   "source": []
  }
 ],
 "metadata": {
  "kernelspec": {
   "display_name": "Python 3 (ipykernel)",
   "language": "python",
   "name": "python3"
  },
  "language_info": {
   "codemirror_mode": {
    "name": "ipython",
    "version": 3
   },
   "file_extension": ".py",
   "mimetype": "text/x-python",
   "name": "python",
   "nbconvert_exporter": "python",
   "pygments_lexer": "ipython3",
   "version": "3.11.9"
  }
 },
 "nbformat": 4,
 "nbformat_minor": 5
}
