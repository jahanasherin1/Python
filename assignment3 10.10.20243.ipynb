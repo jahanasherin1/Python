{
 "cells": [
  {
   "cell_type": "code",
   "execution_count": 2,
   "id": "6e2102a9-2515-4a23-8d1c-d439e7eef631",
   "metadata": {},
   "outputs": [
    {
     "name": "stdin",
     "output_type": "stream",
     "text": [
      "enter a word: home\n"
     ]
    },
    {
     "name": "stdout",
     "output_type": "stream",
     "text": [
      "the word exchanged= eomh\n"
     ]
    }
   ],
   "source": [
    "# 1.String char exchange\n",
    "a=input(\"enter a word:\")\n",
    "b=a[-1] + a[1:-1] +a[0]\n",
    "print(\"the word exchanged=\", b)"
   ]
  },
  {
   "cell_type": "code",
   "execution_count": 5,
   "id": "494ec853-11cc-44d6-a56b-9cb33de16ce9",
   "metadata": {},
   "outputs": [
    {
     "name": "stdin",
     "output_type": "stream",
     "text": [
      "Enter 1st string: jahana\n",
      "Enter 2nd string: sherin\n"
     ]
    },
    {
     "name": "stdout",
     "output_type": "stream",
     "text": [
      "Result= sahana jherin\n"
     ]
    }
   ],
   "source": [
    "# 2. String swap and concatenate\n",
    "s1=input(\"Enter 1st string:\")\n",
    "s2=input(\"Enter 2nd string:\")\n",
    "s=s2[0]+s1[1:]+\" \"+s1[0]+s2[1:]\n",
    "print(\"Result=\",s)"
   ]
  },
  {
   "cell_type": "code",
   "execution_count": 1,
   "id": "e2be9f0e-6bda-4d31-9158-2fb7c70092f5",
   "metadata": {},
   "outputs": [
    {
     "name": "stdin",
     "output_type": "stream",
     "text": [
      "Enter a string: afeefa\n"
     ]
    },
    {
     "name": "stdout",
     "output_type": "stream",
     "text": [
      "Repaced word= afeef$\n"
     ]
    }
   ],
   "source": [
    "# 3.Replace char with $\n",
    "a=input(\"Enter a string:\")\n",
    "b=a[0]+a[1:].replace(a[0],\"$\")\n",
    "print(\"Repaced word=\",b)"
   ]
  },
  {
   "cell_type": "code",
   "execution_count": 13,
   "id": "69fb2f98-46e8-416a-96b1-50b51e140237",
   "metadata": {},
   "outputs": [
    {
     "name": "stdin",
     "output_type": "stream",
     "text": [
      "Enter 1st colour: red\n",
      "Enter 2nd colour: pink\n",
      "Enter 3rd colour: yellow\n",
      "Enter 4th colour: black\n"
     ]
    },
    {
     "name": "stdout",
     "output_type": "stream",
     "text": [
      "red,pink,yellow,black\n",
      "First colour= red\n",
      "Last colour= black\n"
     ]
    }
   ],
   "source": [
    "# 4. Colors list , first and last color\n",
    "c1=input(\"Enter 1st colour:\")\n",
    "c2=input(\"Enter 2nd colour:\")\n",
    "c3=input(\"Enter 3rd colour:\")\n",
    "c4=input(\"Enter 4th colour:\")\n",
    "a=c1[0:]+\",\"+c2[0:]+\",\"+c3[0:]+\",\"+c4[0:]\n",
    "print(a)\n",
    "b=c1[0:]\n",
    "d=c4[0:]\n",
    "print(\"First colour=\",b)\n",
    "print(\"Last colour=\",d)\n"
   ]
  },
  {
   "cell_type": "code",
   "execution_count": 16,
   "id": "467fc477-4f12-4034-b3e0-e20ba0ea45d9",
   "metadata": {},
   "outputs": [
    {
     "name": "stdin",
     "output_type": "stream",
     "text": [
      "Enter a filename: jahana.html\n"
     ]
    },
    {
     "name": "stdout",
     "output_type": "stream",
     "text": [
      "Extension of the filename= html\n"
     ]
    }
   ],
   "source": [
    "# 5.File extention print\n",
    "a=input(\"Enter a filename:\")\n",
    "fn=a.split(\".\")\n",
    "print(\"Extension of the filename=\",fn[-1])"
   ]
  },
  {
   "cell_type": "code",
   "execution_count": 6,
   "id": "b731b499-1661-48b2-8c6e-6cf479c22741",
   "metadata": {},
   "outputs": [
    {
     "name": "stdin",
     "output_type": "stream",
     "text": [
      "Enter values to the tuple: jahana frina hadeela jinana\n"
     ]
    },
    {
     "name": "stdout",
     "output_type": "stream",
     "text": [
      "Tuple element is : ('jahana', 'frina', 'hadeela', 'jinana')\n",
      "Third element  hadeela\n",
      "third from last  frina\n"
     ]
    }
   ],
   "source": [
    "# 6.Third element and third last element\n",
    "a=input(\"Enter values to the tuple:\")\n",
    "b=tuple(a.split(\" \"))\n",
    "print(\"Tuple element is :\",b)\n",
    "print(\"Third element \",b[2])\n",
    "print(\"third from last \",b[-3])\n",
    "        "
   ]
  },
  {
   "cell_type": "code",
   "execution_count": 8,
   "id": "769188af-e54e-4dbd-ada6-7bae511c47c7",
   "metadata": {},
   "outputs": [
    {
     "name": "stdin",
     "output_type": "stream",
     "text": [
      "Enter 1st set color: red,yellow,green,blue\n",
      "Enter 2nd set color: violet,pink,yellow,black\n"
     ]
    },
    {
     "name": "stdout",
     "output_type": "stream",
     "text": [
      "Color present in the 1st set but not in the 2nd = {'red', 'blue', 'green'}\n"
     ]
    }
   ],
   "source": [
    "# 7.Write a python progrm to print all colors from color set-1, not contained in color set-2\n",
    "a=set(input(\"Enter 1st set color:\").split(','))\n",
    "b=set(input(\"Enter 2nd set color:\").split(','))\n",
    "print(\"Color present in the 1st set but not in the 2nd =\",a-b)\n"
   ]
  },
  {
   "cell_type": "code",
   "execution_count": 21,
   "id": "a4181407-024b-462c-b14b-b67affb8a300",
   "metadata": {},
   "outputs": [
    {
     "name": "stdin",
     "output_type": "stream",
     "text": [
      "Enter 5 roll number separated by commas: 1,3,5,2,7\n",
      "Enter 5 students name separated by commas: q,r,d,s,a\n"
     ]
    },
    {
     "name": "stdout",
     "output_type": "stream",
     "text": [
      "{'1': 'q', '3': 'r', '5': 'd', '2': 's', '7': 'a'}\n",
      "Student sorted in ascenting order: {'1': 'q', '2': 's', '3': 'r', '5': 'd', '7': 'a'}\n",
      "Student sorted in descenting order: {'7': 'a', '5': 'd', '3': 'r', '2': 's', '1': 'q'}\n"
     ]
    }
   ],
   "source": [
    "# 8. Acept 5 students names fron user,sort dictionary in ascenting and descenting order\n",
    "r=input(\"Enter 5 roll number separated by commas:\").split(',')\n",
    "n=input(\"Enter 5 students name separated by commas:\").split(',')\n",
    "d={r[0]:n[0],r[1]:n[1],r[2]:n[2],r[3]:n[3],r[4]:n[4]}\n",
    "print(d)\n",
    "print(\"Student sorted in ascenting order:\",dict(sorted(d.items(),reverse=False)))\n",
    "print(\"Student sorted in descenting order:\",dict(sorted(d.items(),reverse=True)))\n",
    "                                                 \n"
   ]
  },
  {
   "cell_type": "code",
   "execution_count": 22,
   "id": "ccd0c989-2513-4788-89c0-304449f918b6",
   "metadata": {},
   "outputs": [
    {
     "name": "stdin",
     "output_type": "stream",
     "text": [
      "Enter three students name separated by spaces: jahana fina hadeela\n",
      "Enter two students name separated by spaces: ajay amruth\n"
     ]
    },
    {
     "name": "stdout",
     "output_type": "stream",
     "text": [
      "Merge dict= {1: 'jahana', 2: 'fina', 3: 'hadeela', 4: 'ajay', 5: 'amruth'}\n"
     ]
    }
   ],
   "source": [
    "# 9.Merge two dictionaries where Dict1 with 3 student names & Dict2 with 2 student names\n",
    "n1=input(\"Enter three students name separated by spaces:\").split( )\n",
    "dict1={1:n1[0],2:n1[1],3:n1[2]}\n",
    "n2=input(\"Enter two students name separated by spaces:\").split( )\n",
    "dict2={4:n2[0],5:n2[1]}\n",
    "dict1.update(dict2)\n",
    "print(\"Merge dict=\",dict1)"
   ]
  },
  {
   "cell_type": "code",
   "execution_count": 23,
   "id": "97901149-cb5b-4516-81a8-11384fc2b604",
   "metadata": {},
   "outputs": [
    {
     "name": "stdout",
     "output_type": "stream",
     "text": [
      "Even number re: [2, 4, 6, 8, 10, 12, 14, 16, 18]\n",
      "Sum of the numbers is : 90\n"
     ]
    }
   ],
   "source": [
    "# 10.Print all even numbers (1-25) & calculate sum, by range() directly without a loop/conditions\n",
    "even_n=list(range(2,20,2))\n",
    "print(\"Even number re:\",even_n)\n",
    "sum_n=sum(range(2,20,2))\n",
    "print(\"Sum of the numbers is :\",sum_n)"
   ]
  },
  {
   "cell_type": "code",
   "execution_count": null,
   "id": "95a72a9a-a766-45b3-92b5-a5e7c203a0dc",
   "metadata": {},
   "outputs": [],
   "source": []
  }
 ],
 "metadata": {
  "kernelspec": {
   "display_name": "Python 3 (ipykernel)",
   "language": "python",
   "name": "python3"
  },
  "language_info": {
   "codemirror_mode": {
    "name": "ipython",
    "version": 3
   },
   "file_extension": ".py",
   "mimetype": "text/x-python",
   "name": "python",
   "nbconvert_exporter": "python",
   "pygments_lexer": "ipython3",
   "version": "3.11.9"
  }
 },
 "nbformat": 4,
 "nbformat_minor": 5
}
