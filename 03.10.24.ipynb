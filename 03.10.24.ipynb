
{
 "cells": [
  {
   "cell_type": "code",
   "execution_count": 1,
   "id": "fdeb4647-faa2-460b-982f-07447824009b",
   "metadata": {},
   "outputs": [
    {
     "name": "stdin",
     "output_type": "stream",
     "text": [
      "Enter an integer: 54\n"
     ]
    },
    {
     "name": "stdout",
     "output_type": "stream",
     "text": [
      "Result= 550962\n"
     ]
    }
   ],
   "source": [
    "n=int(input(\"Enter an integer:\"))\n",
    "S=n+int(str(n)*2)+int(str(n)*3)\n",
    "print(\"Result=\",S)"
   ]
  },
  {
   "cell_type": "code",
   "execution_count": 2,
   "id": "0684aa0d-6bda-421c-b070-e49cefc9a975",
   "metadata": {},
   "outputs": [
    {
     "name": "stdin",
     "output_type": "stream",
     "text": [
      "Enter the radius of the circle: 8\n"
     ]
    },
    {
     "name": "stdout",
     "output_type": "stream",
     "text": [
      "area= 201.14285714285714\n"
     ]
    }
   ],
   "source": [
    "r=float(input(\"Enter the radius of the circle:\"))\n",
    "area=(22/7)*r**2\n",
    "print(\"area=\",area)"
   ]
  },
  {
   "cell_type": "code",
   "execution_count": 5,
   "id": "6914ea6c-9190-4b17-bda8-7412d3407252",
   "metadata": {},
   "outputs": [
    {
     "name": "stdin",
     "output_type": "stream",
     "text": [
      "Enter the first number: 10\n",
      "Enter the second number: 8\n",
      "Enter the third number: 12\n"
     ]
    },
    {
     "name": "stdout",
     "output_type": "stream",
     "text": [
      "The largest number = 12.0\n"
     ]
    }
   ],
   "source": [
    "a=float(input(\"Enter the first number:\"))\n",
    "b=float(input(\"Enter the second number:\"))\n",
    "c=float(input(\"Enter the third number:\"))\n",
    "largest=max(a,b,c)\n",
    "print(\"The largest number =\",largest)"
   ]
  },
  {
   "cell_type": "code",
   "execution_count": null,
   "id": "be46b46a-18c7-46dd-b46d-608f122fbe4c",
   "metadata": {},
   "outputs": [],
   "source": []
  }
 ],
 "metadata": {
  "kernelspec": {
   "display_name": "Python 3 (ipykernel)",
   "language": "python",
   "name": "python3"
  },
  "language_info": {
   "codemirror_mode": {
    "name": "ipython",
    "version": 3
   },
   "file_extension": ".py",
   "mimetype": "text/x-python",
   "name": "python",
   "nbconvert_exporter": "python",
   "pygments_lexer": "ipython3",
   "version": "3.11.9"
  }
 },
 "nbformat": 4,
 "nbformat_minor": 5
}
