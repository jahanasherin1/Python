{
 "cells": [
  {
   "cell_type": "code",
   "execution_count": 1,
   "id": "81869c9c-758b-40e1-badd-27e48cf0be90",
   "metadata": {},
   "outputs": [
    {
     "name": "stdin",
     "output_type": "stream",
     "text": [
      "enter a no into the square side: 5\n"
     ]
    },
    {
     "name": "stdout",
     "output_type": "stream",
     "text": [
      "area of square= 25\n"
     ]
    }
   ],
   "source": [
    "a=int(input(\"enter a no into the square side:\"))\n",
    "area=a*a\n",
    "print(\"area of square=\",area)"
   ]
  },
  {
   "cell_type": "code",
   "execution_count": 1,
   "id": "12bb038b-9292-45a7-a827-009cc9cb894f",
   "metadata": {},
   "outputs": [
    {
     "name": "stdin",
     "output_type": "stream",
     "text": [
      "enter the base of triangle: 10\n",
      "enter the height of triangle: 8\n"
     ]
    },
    {
     "name": "stdout",
     "output_type": "stream",
     "text": [
      "area of right angled triangle =  40.0\n"
     ]
    }
   ],
   "source": [
    "b=float(input(\"enter the base of triangle:\"))\n",
    "h=float(input(\"enter the height of triangle:\"))\n",
    "area=0.5*b*h\n",
    "print(\"area of right angled triangle = \",area)"
   ]
  },
  {
   "cell_type": "code",
   "execution_count": 5,
   "id": "67ce0308-c743-4135-ba69-edec6ee6625d",
   "metadata": {},
   "outputs": [
    {
     "name": "stdin",
     "output_type": "stream",
     "text": [
      "enter your name: jahana\n"
     ]
    },
    {
     "name": "stdout",
     "output_type": "stream",
     "text": [
      "hello,jahana!\n"
     ]
    }
   ],
   "source": [
    "username=input(\"enter your name:\")\n",
    "print(f\"hello,{username}!\")"
   ]
  },
  {
   "cell_type": "code",
   "execution_count": 8,
   "id": "bbee85cb-65ae-4d2f-98e3-08b701c1334f",
   "metadata": {},
   "outputs": [
    {
     "name": "stdin",
     "output_type": "stream",
     "text": [
      "enter an integer no: 5\n"
     ]
    },
    {
     "name": "stdout",
     "output_type": "stream",
     "text": [
      "the previous no is 4 and the next no is 6\n"
     ]
    }
   ],
   "source": [
    "num=int(input(\"enter an integer no:\"))\n",
    "previous_number=num-1\n",
    "next_number=num+1\n",
    "print(f\"the previous no is {previous_number} and the next no is {next_number}\")"
   ]
  },
  {
   "cell_type": "code",
   "execution_count": 10,
   "id": "416e0bd6-9344-4b26-8812-336eb0fe5596",
   "metadata": {},
   "outputs": [
    {
     "name": "stdin",
     "output_type": "stream",
     "text": [
      "enter a principal amount: 2500\n",
      "enter the rate of interest: 5\n",
      "enter the time period in years: 3\n"
     ]
    },
    {
     "name": "stdout",
     "output_type": "stream",
     "text": [
      "simple interest = 375.0\n"
     ]
    }
   ],
   "source": [
    "principal=float(input(\"enter a principal amount:\"))\n",
    "rate=float(input(\"enter the rate of interest:\"))\n",
    "time=float(input(\"enter the time period in years:\"))\n",
    "simple_interest=(principal*rate*time)/100\n",
    "print(\"simple interest =\", simple_interest)"
   ]
  },
  {
   "cell_type": "code",
   "execution_count": null,
   "id": "6d20046f-29a6-4527-a99d-aee76341028f",
   "metadata": {},
   "outputs": [],
   "source": []
  }
 ],
 "metadata": {
  "kernelspec": {
   "display_name": "Python 3 (ipykernel)",
   "language": "python",
   "name": "python3"
  },
  "language_info": {
   "codemirror_mode": {
    "name": "ipython",
    "version": 3
   },
   "file_extension": ".py",
   "mimetype": "text/x-python",
   "name": "python",
   "nbconvert_exporter": "python",
   "pygments_lexer": "ipython3",
   "version": "3.11.9"
  }
 },
 "nbformat": 4,
 "nbformat_minor": 5
}
